{
 "cells": [
  {
   "cell_type": "code",
   "execution_count": 5,
   "id": "initial_id",
   "metadata": {
    "ExecuteTime": {
     "end_time": "2025-08-19T15:56:10.531621Z",
     "start_time": "2025-08-19T15:56:10.526562Z"
    },
    "collapsed": true
   },
   "outputs": [
    {
     "name": "stdout",
     "output_type": "stream",
     "text": [
      "5\n",
      "6\n",
      "5\n",
      "10\n"
     ]
    }
   ],
   "source": [
    "class MyClass:\n",
    "    x = 5\n",
    "    y = 6\n",
    "    \n",
    "p1 = MyClass()\n",
    "p2 = MyClass()\n",
    "p2.y = 10\n",
    "print(p1.x)\n",
    "print(p1.y)\n",
    "print(p2.x)\n",
    "print(p2.y)"
   ]
  },
  {
   "cell_type": "code",
   "execution_count": 20,
   "id": "c45c2facfdc4b5f2",
   "metadata": {
    "ExecuteTime": {
     "end_time": "2025-08-19T16:12:03.630832Z",
     "start_time": "2025-08-19T16:12:03.624765Z"
    },
    "collapsed": false
   },
   "outputs": [
    {
     "name": "stdout",
     "output_type": "stream",
     "text": [
      "Mariam\n",
      "36\n",
      "12345678908\n",
      "Mariam\n",
      "25\n",
      "12345678954\n",
      "John\n",
      "15\n",
      "12345678954\n",
      "Mariam - age: 36 - id_number: 12345678908\n"
     ]
    }
   ],
   "source": [
    "class Person:\n",
    "    x = 5 \n",
    "    \n",
    "    def __init__(self, name, id_number, age=15):\n",
    "        self.name = name\n",
    "        self.age = age\n",
    "        self.id_number = id_number\n",
    "        \n",
    "    def __str__(self):\n",
    "        return f\"{self.name} - age: {self.age} - id_number: {self.id_number}\"\n",
    "    \n",
    "    def move(self):\n",
    "        print(\"I am moving\")\n",
    "    \n",
    "    \n",
    "p1 = Person(\"John\", '12345678908', 36)\n",
    "p2 = Person(name=\"Mariam\", age=25, id_number='12345678954')\n",
    "p3 = Person(name=\"John\", id_number='12345678954')\n",
    "p1.name = \"Mariam\"\n",
    "\n",
    "print(p1.name)\n",
    "print(p1.age)\n",
    "print(p1.id_number)\n",
    "\n",
    "print(p2.name)\n",
    "print(p2.age)\n",
    "print(p2.id_number)\n",
    "\n",
    "# del p3.age\n",
    "# p3.age = 67\n",
    "\n",
    "# del p3\n",
    "\n",
    "print(p3.name)\n",
    "print(p3.age)\n",
    "print(p3.id_number)\n",
    "\n",
    "print(p1)\n"
   ]
  },
  {
   "cell_type": "code",
   "execution_count": 17,
   "id": "8068bc031ad9c85",
   "metadata": {
    "ExecuteTime": {
     "end_time": "2025-08-19T16:09:25.979780Z",
     "start_time": "2025-08-19T16:09:25.974289Z"
    },
    "collapsed": false
   },
   "outputs": [],
   "source": [
    "# class Person:\n",
    "#   pass"
   ]
  },
  {
   "cell_type": "code",
   "execution_count": 39,
   "id": "558749d3e1f6b098",
   "metadata": {
    "ExecuteTime": {
     "end_time": "2025-08-19T16:31:05.560633Z",
     "start_time": "2025-08-19T16:31:05.554394Z"
    },
    "collapsed": false
   },
   "outputs": [
    {
     "name": "stdout",
     "output_type": "stream",
     "text": [
      "I am moving - running\n",
      "Hello my name is John\n",
      "I am Person class\n",
      "I am Person class\n"
     ]
    }
   ],
   "source": [
    "class Person:\n",
    "    def __init__(self, name, id_number, age=15):\n",
    "        self.name = name\n",
    "        self.age = age\n",
    "        self.id_number = id_number\n",
    "        \n",
    "    def __str__(self):\n",
    "        return f\"{self.name} - age: {self.age} - id_number: {self.id_number}\"\n",
    "    \n",
    "    def my_name_is(self):\n",
    "        return \"Hello my name is \" + self.name\n",
    "    \n",
    "    @staticmethod\n",
    "    def move(how='walking'):\n",
    "        return f\"I am moving - {how}\"\n",
    "    \n",
    "    @classmethod    \n",
    "    def class_method(cls):\n",
    "        return f\"I am Person class\"\n",
    "  \n",
    "p1 = Person(\"John\", '1234567890', 36) \n",
    "\n",
    "print(p1.move(\"running\"))\n",
    "print(p1.my_name_is())\n",
    "print(p1.class_method())\n",
    "print(Person.class_method())\n"
   ]
  },
  {
   "cell_type": "code",
   "execution_count": 41,
   "id": "5cd17554135bd925",
   "metadata": {
    "ExecuteTime": {
     "end_time": "2025-08-19T16:33:47.266975Z",
     "start_time": "2025-08-19T16:33:47.261868Z"
    },
    "collapsed": false
   },
   "outputs": [
    {
     "name": "stdout",
     "output_type": "stream",
     "text": [
      "Lesi\n",
      "9\n",
      "Canis familiaris\n",
      "==================\n",
      "lusi says woof!\n",
      "lusi is 5 years old.\n"
     ]
    }
   ],
   "source": [
    "class Dog:\n",
    "    # Class attribute (shared by all instances)\n",
    "    species = \"Canis familiaris\"\n",
    "\n",
    "    # Constructor method (initializes the object)\n",
    "    def __init__(self, name, age):\n",
    "        # Instance attributes (unique to each object)\n",
    "        self.name = name\n",
    "        self.age = age\n",
    "\n",
    "    # Instance method (behavior of the object)\n",
    "    def bark(self):\n",
    "        return f\"{self.name} says woof!\"\n",
    "\n",
    "    def get_age(self):\n",
    "        return f\"{self.name} is {self.age} years old.\"\n",
    "    \n",
    "dog_1 = Dog(\"Lesi\", 9)\n",
    "dog_2 = Dog(\"lusi\", 5)\n",
    "\n",
    "print(dog_1.name)\n",
    "print(dog_1.age)\n",
    "print(dog_1.species)\n",
    "print(\"==================\")\n",
    "print(dog_2.bark())\n",
    "print(dog_2.get_age())"
   ]
  },
  {
   "cell_type": "code",
   "execution_count": 45,
   "id": "b29ca4c857fc83c1",
   "metadata": {
    "ExecuteTime": {
     "end_time": "2025-08-19T16:44:31.307679Z",
     "start_time": "2025-08-19T16:44:31.301253Z"
    },
    "collapsed": false
   },
   "outputs": [
    {
     "name": "stdout",
     "output_type": "stream",
     "text": [
      "The Toyota Corolla is now going 60 km/h.\n",
      "The Toyota Corolla slowed down to -20 km/h.\n"
     ]
    }
   ],
   "source": [
    "class Car:\n",
    "    # Class attribute\n",
    "    wheels = 4\n",
    "\n",
    "    # Constructor\n",
    "    def __init__(self, make, model, year):\n",
    "        self.make = make\n",
    "        self.model = model\n",
    "        self.year = year\n",
    "        self.speed = 0  # Default speed\n",
    "\n",
    "    # Instance method to accelerate\n",
    "    def accelerate(self, increment):\n",
    "        self.speed += increment\n",
    "        return f\"The {self.make} {self.model} is now going {self.speed} km/h.\"\n",
    "\n",
    "    # Instance method to brake\n",
    "    def brake(self, decrement):\n",
    "        if self.speed == 0:\n",
    "            return 'car is already stopped'\n",
    "        elif self.speed <= decrement:\n",
    "            self.speed = 0\n",
    "            return 'slowed down to 0 km/h.'\n",
    "        self.speed -= decrement\n",
    "        return f\"The {self.make} {self.model} slowed down to {self.speed} km/h.\"\n",
    "\n",
    "    # Instance method to describe the car\n",
    "    def describe(self):\n",
    "        return f\"This is a {self.year} {self.make} {self.model} with {self.wheels} wheels.\"\n",
    "    \n",
    "my_car = Car(\"Toyota\", \"Corolla\", 2022)\n",
    "print(my_car.accelerate(60))\n",
    "print(my_car.brake(80))\n"
   ]
  },
  {
   "cell_type": "code",
   "execution_count": null,
   "id": "f61dee5e3b6c287e",
   "metadata": {
    "collapsed": false
   },
   "outputs": [],
   "source": []
  }
 ],
 "metadata": {
  "kernelspec": {
   "display_name": "Python 3",
   "language": "python",
   "name": "python3"
  },
  "language_info": {
   "codemirror_mode": {
    "name": "ipython",
    "version": 2
   },
   "file_extension": ".py",
   "mimetype": "text/x-python",
   "name": "python",
   "nbconvert_exporter": "python",
   "pygments_lexer": "ipython2",
   "version": "2.7.6"
  }
 },
 "nbformat": 4,
 "nbformat_minor": 5
}
