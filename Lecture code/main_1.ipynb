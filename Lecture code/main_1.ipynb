{
 "cells": [
  {
   "cell_type": "code",
   "execution_count": 7,
   "id": "6e6bc78396b5a482",
   "metadata": {
    "ExecuteTime": {
     "end_time": "2025-08-18T16:11:17.814806Z",
     "start_time": "2025-08-18T16:11:17.806682Z"
    },
    "collapsed": false
   },
   "outputs": [
    {
     "name": "stdout",
     "output_type": "stream",
     "text": [
      "5\n",
      "6\n"
     ]
    }
   ],
   "source": [
    "class MyClass:\n",
    "    x = 5\n",
    "    y = 6\n",
    "    \n",
    "p1 = MyClass()\n",
    "p2 = MyClass()\n",
    "print(p1.x)\n",
    "print(p2.y)"
   ]
  },
  {
   "cell_type": "code",
   "execution_count": 31,
   "id": "614d4ad673a4ebcc",
   "metadata": {
    "ExecuteTime": {
     "end_time": "2025-08-18T16:43:03.589152Z",
     "start_time": "2025-08-18T16:43:03.579308Z"
    },
    "collapsed": false
   },
   "outputs": [
    {
     "name": "stdout",
     "output_type": "stream",
     "text": [
      "I am Person\n"
     ]
    }
   ],
   "source": [
    "class Person:\n",
    "  def __init__(self, name, id_number, age=30):\n",
    "    self.id_number = id_number\n",
    "    self.name = name\n",
    "    self.age = age\n",
    "\n",
    "  def __str__(self):\n",
    "    return f\"{self.name} - age: {self.age}\"\n",
    "  \n",
    "  @staticmethod\n",
    "  def move():\n",
    "      return f\"I am moving\"\n",
    "  \n",
    "  @classmethod\n",
    "  def class_method(cls):\n",
    "      return f\"I am Person\"\n",
    "  \n",
    "  def abc(self):\n",
    "      pass\n",
    "  \n",
    "p1 = Person(\"John\", 36, \"123456789093\")\n",
    "\n",
    "print(p1.name)\n",
    "p1.name = 'mariami'\n",
    "p1.age = 45\n",
    "print(p1.age)\n",
    "print(p1.name)\n",
    "\n",
    "print(p1)\n",
    "print(p1.move())\n",
    "\n",
    "del p1.age\n",
    "print(p1.name)\n",
    "p1.age = 45\n",
    "\n",
    "# del p1\n",
    "# print(p1)\n",
    "\n",
    "# print(p1.class_method())\n",
    "print(Person.class_method())"
   ]
  },
  {
   "cell_type": "code",
   "execution_count": 34,
   "id": "818acd3b05b1ecd0",
   "metadata": {
    "ExecuteTime": {
     "end_time": "2025-08-18T16:52:34.975986Z",
     "start_time": "2025-08-18T16:52:34.970427Z"
    },
    "collapsed": false
   },
   "outputs": [
    {
     "name": "stdout",
     "output_type": "stream",
     "text": [
      "Lesi\n",
      "10\n",
      "Lesi says woof!\n",
      "Lesi is 10 years old.\n",
      "Canis familiaris\n"
     ]
    }
   ],
   "source": [
    "class Dog:\n",
    "    # Class attribute (shared by all instances)\n",
    "    species = \"Canis familiaris\"\n",
    "\n",
    "    # Constructor method (initializes the object)\n",
    "    def __init__(self, name, age):\n",
    "        # Instance attributes (unique to each object)\n",
    "        self.name = name\n",
    "        self.age = age\n",
    "\n",
    "    # Instance method (behavior of the object)\n",
    "    def bark(self):\n",
    "        return f\"{self.name} says woof!\"\n",
    "\n",
    "    def get_age(self):\n",
    "        return f\"{self.name} is {self.age} years old.\"\n",
    "    \n",
    "dog_1 = Dog(\"Lesi\", 10)\n",
    "\n",
    "print(dog_1.name)\n",
    "print(dog_1.age)\n",
    "print(dog_1.bark())\n",
    "print(dog_1.get_age())\n",
    "print(dog_1.species)"
   ]
  },
  {
   "cell_type": "code",
   "execution_count": 36,
   "id": "a5b641324183944d",
   "metadata": {
    "ExecuteTime": {
     "end_time": "2025-08-18T16:57:25.079636Z",
     "start_time": "2025-08-18T16:57:25.074285Z"
    },
    "collapsed": false
   },
   "outputs": [
    {
     "name": "stdout",
     "output_type": "stream",
     "text": [
      "0\n",
      "The Toyota Corolla slowed down to -50 km/h.\n"
     ]
    }
   ],
   "source": [
    "class Car:\n",
    "    # Class attribute\n",
    "    wheels = 4\n",
    "\n",
    "    # Constructor\n",
    "    def __init__(self, make, model, year):\n",
    "        self.make = make\n",
    "        self.model = model\n",
    "        self.year = year\n",
    "        self.speed = 0  # Default speed\n",
    "\n",
    "    # Instance method to accelerate\n",
    "    def accelerate(self, increment):\n",
    "        self.speed += increment\n",
    "        return f\"The {self.make} {self.model} is now going {self.speed} km/h.\"\n",
    "\n",
    "    # Instance method to brake\n",
    "    def brake(self, decrement):\n",
    "        if self.speed == 0:\n",
    "            return \"Car is already stopped\"\n",
    "        if self.speed < decrement:\n",
    "            self.speed = 0\n",
    "        self.speed -= decrement\n",
    "        return f\"The {self.make} {self.model} slowed down to {self.speed} km/h.\"\n",
    "\n",
    "    # Instance method to describe the car\n",
    "    def describe(self):\n",
    "        return f\"This is a {self.year} {self.make} {self.model} with {self.wheels} wheels.\"\n",
    "    \n",
    "my_car = Car(\"Toyota\", \"Corolla\", 2022)\n",
    "print(my_car.speed)\n",
    "print(my_car.brake(50))"
   ]
  },
  {
   "cell_type": "code",
   "execution_count": null,
   "id": "9174d86751074333",
   "metadata": {
    "collapsed": false
   },
   "outputs": [],
   "source": []
  }
 ],
 "metadata": {
  "kernelspec": {
   "display_name": "Python 3",
   "language": "python",
   "name": "python3"
  },
  "language_info": {
   "codemirror_mode": {
    "name": "ipython",
    "version": 2
   },
   "file_extension": ".py",
   "mimetype": "text/x-python",
   "name": "python",
   "nbconvert_exporter": "python",
   "pygments_lexer": "ipython2",
   "version": "2.7.6"
  }
 },
 "nbformat": 4,
 "nbformat_minor": 5
}
